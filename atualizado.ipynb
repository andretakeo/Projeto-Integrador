{
  "cells": [
    {
      "cell_type": "code",
      "execution_count": 75,
      "metadata": {
        "id": "DTPEM4tPpei8"
      },
      "outputs": [],
      "source": [
        "import pandas as pd\n",
        "import json\n",
        "import requests\n",
        "import yfinance as yf\n",
        "import seaborn as sns\n",
        "import matplotlib.pyplot as plt\n",
        "from prophet import Prophet\n",
        "import asyncio\n",
        "from dash import Dash, html, dash_table, dcc\n",
        "import datetime\n",
        "import time\n",
        "import os\n"
      ]
    },
    {
      "cell_type": "code",
      "execution_count": 76,
      "metadata": {
        "id": "DoFlqEJNpei9"
      },
      "outputs": [],
      "source": [
        "nasdaq = pd.read_html('Quotes For Nasdaq-100 Index _ Nasdaq.html')[0]"
      ]
    },
    {
      "cell_type": "code",
      "execution_count": 77,
      "metadata": {
        "id": "APHsIKfLpei-"
      },
      "outputs": [],
      "source": [
        "# Função para prever o preço de uma ação\n",
        "\n",
        "\n",
        "# Com dados de teste 80/20\n",
        "# 100% reais, tentar prever 20% desses dados já obtidos, para avaliar a precisão do modelo\n",
        "def forecast_prophet(ds, y):\n",
        "    data = {'ds': ds, 'y': y}\n",
        "    df = pd.DataFrame(data)\n",
        "\n",
        "    # Dividindo os dados em 80/20\n",
        "    split_index = int(len(df) * 0.8)\n",
        "    train_data = df[:split_index]\n",
        "    test_data = df[split_index:]\n",
        "\n",
        "    # Instanciando o modelo Prophet\n",
        "    model = Prophet()\n",
        "\n",
        "    # Ajustando o modelo aos dados de treinamento\n",
        "    model.fit(train_data)\n",
        "\n",
        "    # Criando um dataframe com datas futuras para prever (20%)\n",
        "    future = model.make_future_dataframe(periods=int(len(df) * 0.2))\n",
        "\n",
        "    # Fazendo previsões\n",
        "    forecast = model.predict(future)\n",
        "\n",
        "\n",
        "    return forecast\n",
        "\n",
        "\n",
        "# Sem dados de teste 80/20\n",
        "# 80% reais e 20% futuros\n",
        "def forecast_prophet(ds, y):\n",
        "    data = {'ds': ds, 'y': y}\n",
        "    df = pd.DataFrame(data)\n",
        "\n",
        "    # Instanciando o modelo Prophet\n",
        "    model = Prophet()\n",
        "    # Ajustando o modelo aos dados de treinamento\n",
        "    model.fit(df)\n",
        "\n",
        "    # Criando um dataframe com datas futuras para prever (20%)\n",
        "    future = model.make_future_dataframe(periods=int(round(len(data['ds']) *0.2)), freq='D')\n",
        "    forecast = model.predict(future)\n",
        "\n",
        "    return forecast\n"
      ]
    },
    {
      "cell_type": "code",
      "execution_count": 78,
      "metadata": {
        "id": "Tjr_XfT2pei-"
      },
      "outputs": [],
      "source": [
        "def get_stock_data(ticker, period=None):\n",
        "    if period:\n",
        "        stock_data =  yf.download(ticker, period=\"10y\")\n",
        "    else:\n",
        "        stock_data =  yf.download(ticker)\n",
        "    return stock_data\n",
        "\n",
        "def save_forecast_data(symbol, forecast):\n",
        "    forecast.to_json(f\"prophet-predictions/{symbol}-forecast.json\", orient='records')"
      ]
    },
    {
      "cell_type": "code",
      "execution_count": 79,
      "metadata": {
        "id": "PyGIlGEipei_"
      },
      "outputs": [],
      "source": [
        "def main(tickers):\n",
        "    for ticker in tickers:\n",
        "        try:\n",
        "            stock = get_stock_data(ticker)\n",
        "            # Supondo que 'stock' seja seu DataFrame e contenha uma coluna 'Close'\n",
        "            # Primeiro, vamos calcular os retornos diários\n",
        "            stock['Return'] = stock['Close'].pct_change()\n",
        "\n",
        "            # Em seguida, calculamos o retorno acumulado\n",
        "            stock['Acc_Return'] = (1 + stock['Return']).cumprod() - 1\n",
        "            forecast = forecast_prophet(stock.index, stock['Acc_Return'])\n",
        "            save_forecast_data(ticker, forecast)\n",
        "            print(f\"Saved forecast for {ticker}\")\n",
        "\n",
        "        except Exception as e:\n",
        "            print(f\"Error: {e}\")"
      ]
    },
    {
      "cell_type": "code",
      "execution_count": 80,
      "metadata": {
        "colab": {
          "base_uri": "https://localhost:8080/",
          "height": 1000
        },
        "id": "lcWw1rrWpei_",
        "outputId": "6b60cc28-922e-413e-dcd7-85c119a7ed83"
      },
      "outputs": [
        {
          "output_type": "stream",
          "name": "stderr",
          "text": [
            "\r[*********************100%%**********************]  1 of 1 completed\n",
            "INFO:prophet:Disabling daily seasonality. Run prophet with daily_seasonality=True to override this.\n",
            "DEBUG:cmdstanpy:input tempfile: /tmp/tmp4vhzzsbg/_xxt2h3z.json\n",
            "DEBUG:cmdstanpy:input tempfile: /tmp/tmp4vhzzsbg/axx9g0xy.json\n",
            "DEBUG:cmdstanpy:idx 0\n",
            "DEBUG:cmdstanpy:running CmdStan, num_threads: None\n",
            "DEBUG:cmdstanpy:CmdStan args: ['/usr/local/lib/python3.10/dist-packages/prophet/stan_model/prophet_model.bin', 'random', 'seed=57871', 'data', 'file=/tmp/tmp4vhzzsbg/_xxt2h3z.json', 'init=/tmp/tmp4vhzzsbg/axx9g0xy.json', 'output', 'file=/tmp/tmp4vhzzsbg/prophet_model2wqcroc2/prophet_model-20240415141038.csv', 'method=optimize', 'algorithm=lbfgs', 'iter=10000']\n",
            "14:10:38 - cmdstanpy - INFO - Chain [1] start processing\n",
            "INFO:cmdstanpy:Chain [1] start processing\n",
            "14:10:47 - cmdstanpy - INFO - Chain [1] done processing\n",
            "INFO:cmdstanpy:Chain [1] done processing\n",
            "[*********************100%%**********************]  1 of 1 completed\n",
            "INFO:prophet:Disabling daily seasonality. Run prophet with daily_seasonality=True to override this.\n"
          ]
        },
        {
          "output_type": "stream",
          "name": "stdout",
          "text": [
            "Saved forecast for AAPL\n"
          ]
        },
        {
          "output_type": "stream",
          "name": "stderr",
          "text": [
            "DEBUG:cmdstanpy:input tempfile: /tmp/tmp4vhzzsbg/boyp9a3m.json\n",
            "DEBUG:cmdstanpy:input tempfile: /tmp/tmp4vhzzsbg/czmt1zjp.json\n",
            "DEBUG:cmdstanpy:idx 0\n",
            "DEBUG:cmdstanpy:running CmdStan, num_threads: None\n",
            "DEBUG:cmdstanpy:CmdStan args: ['/usr/local/lib/python3.10/dist-packages/prophet/stan_model/prophet_model.bin', 'random', 'seed=12524', 'data', 'file=/tmp/tmp4vhzzsbg/boyp9a3m.json', 'init=/tmp/tmp4vhzzsbg/czmt1zjp.json', 'output', 'file=/tmp/tmp4vhzzsbg/prophet_modelcfogcd9p/prophet_model-20240415141051.csv', 'method=optimize', 'algorithm=lbfgs', 'iter=10000']\n",
            "14:10:51 - cmdstanpy - INFO - Chain [1] start processing\n",
            "INFO:cmdstanpy:Chain [1] start processing\n",
            "14:10:52 - cmdstanpy - INFO - Chain [1] done processing\n",
            "INFO:cmdstanpy:Chain [1] done processing\n"
          ]
        },
        {
          "output_type": "stream",
          "name": "stdout",
          "text": [
            "Saved forecast for ABNB\n"
          ]
        },
        {
          "output_type": "stream",
          "name": "stderr",
          "text": [
            "\r[*********************100%%**********************]  1 of 1 completed\n",
            "INFO:prophet:Disabling daily seasonality. Run prophet with daily_seasonality=True to override this.\n",
            "DEBUG:cmdstanpy:input tempfile: /tmp/tmp4vhzzsbg/tghfijol.json\n",
            "DEBUG:cmdstanpy:input tempfile: /tmp/tmp4vhzzsbg/uc1v1ic5.json\n",
            "DEBUG:cmdstanpy:idx 0\n",
            "DEBUG:cmdstanpy:running CmdStan, num_threads: None\n",
            "DEBUG:cmdstanpy:CmdStan args: ['/usr/local/lib/python3.10/dist-packages/prophet/stan_model/prophet_model.bin', 'random', 'seed=76223', 'data', 'file=/tmp/tmp4vhzzsbg/tghfijol.json', 'init=/tmp/tmp4vhzzsbg/uc1v1ic5.json', 'output', 'file=/tmp/tmp4vhzzsbg/prophet_model32qj8sep/prophet_model-20240415141054.csv', 'method=optimize', 'algorithm=lbfgs', 'iter=10000']\n",
            "14:10:54 - cmdstanpy - INFO - Chain [1] start processing\n",
            "INFO:cmdstanpy:Chain [1] start processing\n",
            "14:10:58 - cmdstanpy - INFO - Chain [1] done processing\n",
            "INFO:cmdstanpy:Chain [1] done processing\n"
          ]
        },
        {
          "output_type": "stream",
          "name": "stdout",
          "text": [
            "Saved forecast for ADBE\n"
          ]
        },
        {
          "output_type": "stream",
          "name": "stderr",
          "text": [
            "\r[*********************100%%**********************]  1 of 1 completed\n",
            "INFO:prophet:Disabling daily seasonality. Run prophet with daily_seasonality=True to override this.\n",
            "DEBUG:cmdstanpy:input tempfile: /tmp/tmp4vhzzsbg/gx9ksnhv.json\n",
            "DEBUG:cmdstanpy:input tempfile: /tmp/tmp4vhzzsbg/g6r6o3sw.json\n",
            "DEBUG:cmdstanpy:idx 0\n",
            "DEBUG:cmdstanpy:running CmdStan, num_threads: None\n",
            "DEBUG:cmdstanpy:CmdStan args: ['/usr/local/lib/python3.10/dist-packages/prophet/stan_model/prophet_model.bin', 'random', 'seed=6287', 'data', 'file=/tmp/tmp4vhzzsbg/gx9ksnhv.json', 'init=/tmp/tmp4vhzzsbg/g6r6o3sw.json', 'output', 'file=/tmp/tmp4vhzzsbg/prophet_modelkrk5haxo/prophet_model-20240415141102.csv', 'method=optimize', 'algorithm=lbfgs', 'iter=10000']\n",
            "14:11:02 - cmdstanpy - INFO - Chain [1] start processing\n",
            "INFO:cmdstanpy:Chain [1] start processing\n",
            "14:11:13 - cmdstanpy - INFO - Chain [1] done processing\n",
            "INFO:cmdstanpy:Chain [1] done processing\n"
          ]
        },
        {
          "output_type": "stream",
          "name": "stdout",
          "text": [
            "Saved forecast for ADI\n"
          ]
        },
        {
          "output_type": "stream",
          "name": "stderr",
          "text": [
            "\r[*********************100%%**********************]  1 of 1 completed\n",
            "INFO:prophet:Disabling daily seasonality. Run prophet with daily_seasonality=True to override this.\n",
            "DEBUG:cmdstanpy:input tempfile: /tmp/tmp4vhzzsbg/2xflpml8.json\n",
            "DEBUG:cmdstanpy:input tempfile: /tmp/tmp4vhzzsbg/6l3jx0cm.json\n",
            "DEBUG:cmdstanpy:idx 0\n",
            "DEBUG:cmdstanpy:running CmdStan, num_threads: None\n",
            "DEBUG:cmdstanpy:CmdStan args: ['/usr/local/lib/python3.10/dist-packages/prophet/stan_model/prophet_model.bin', 'random', 'seed=49427', 'data', 'file=/tmp/tmp4vhzzsbg/2xflpml8.json', 'init=/tmp/tmp4vhzzsbg/6l3jx0cm.json', 'output', 'file=/tmp/tmp4vhzzsbg/prophet_modele4sbtu7s/prophet_model-20240415141118.csv', 'method=optimize', 'algorithm=lbfgs', 'iter=10000']\n",
            "14:11:18 - cmdstanpy - INFO - Chain [1] start processing\n",
            "INFO:cmdstanpy:Chain [1] start processing\n",
            "14:11:27 - cmdstanpy - INFO - Chain [1] done processing\n",
            "INFO:cmdstanpy:Chain [1] done processing\n"
          ]
        },
        {
          "output_type": "stream",
          "name": "stdout",
          "text": [
            "Saved forecast for ADP\n"
          ]
        },
        {
          "output_type": "stream",
          "name": "stderr",
          "text": [
            "\r[*********************100%%**********************]  1 of 1 completed\n",
            "INFO:prophet:Disabling daily seasonality. Run prophet with daily_seasonality=True to override this.\n",
            "DEBUG:cmdstanpy:input tempfile: /tmp/tmp4vhzzsbg/uvdqzbj3.json\n",
            "DEBUG:cmdstanpy:input tempfile: /tmp/tmp4vhzzsbg/zv_x47mr.json\n",
            "DEBUG:cmdstanpy:idx 0\n",
            "DEBUG:cmdstanpy:running CmdStan, num_threads: None\n",
            "DEBUG:cmdstanpy:CmdStan args: ['/usr/local/lib/python3.10/dist-packages/prophet/stan_model/prophet_model.bin', 'random', 'seed=11034', 'data', 'file=/tmp/tmp4vhzzsbg/uvdqzbj3.json', 'init=/tmp/tmp4vhzzsbg/zv_x47mr.json', 'output', 'file=/tmp/tmp4vhzzsbg/prophet_modelzst5lem7/prophet_model-20240415141133.csv', 'method=optimize', 'algorithm=lbfgs', 'iter=10000']\n",
            "14:11:33 - cmdstanpy - INFO - Chain [1] start processing\n",
            "INFO:cmdstanpy:Chain [1] start processing\n",
            "14:11:41 - cmdstanpy - INFO - Chain [1] done processing\n",
            "INFO:cmdstanpy:Chain [1] done processing\n"
          ]
        },
        {
          "output_type": "stream",
          "name": "stdout",
          "text": [
            "Saved forecast for ADSK\n"
          ]
        },
        {
          "output_type": "stream",
          "name": "stderr",
          "text": [
            "\r[*********************100%%**********************]  1 of 1 completed\n",
            "INFO:prophet:Disabling daily seasonality. Run prophet with daily_seasonality=True to override this.\n",
            "DEBUG:cmdstanpy:input tempfile: /tmp/tmp4vhzzsbg/zwc6jnfc.json\n",
            "DEBUG:cmdstanpy:input tempfile: /tmp/tmp4vhzzsbg/lnr9_qtr.json\n",
            "DEBUG:cmdstanpy:idx 0\n",
            "DEBUG:cmdstanpy:running CmdStan, num_threads: None\n",
            "DEBUG:cmdstanpy:CmdStan args: ['/usr/local/lib/python3.10/dist-packages/prophet/stan_model/prophet_model.bin', 'random', 'seed=28975', 'data', 'file=/tmp/tmp4vhzzsbg/zwc6jnfc.json', 'init=/tmp/tmp4vhzzsbg/lnr9_qtr.json', 'output', 'file=/tmp/tmp4vhzzsbg/prophet_modelstukr6a0/prophet_model-20240415141146.csv', 'method=optimize', 'algorithm=lbfgs', 'iter=10000']\n",
            "14:11:46 - cmdstanpy - INFO - Chain [1] start processing\n",
            "INFO:cmdstanpy:Chain [1] start processing\n",
            "14:12:08 - cmdstanpy - INFO - Chain [1] done processing\n",
            "INFO:cmdstanpy:Chain [1] done processing\n"
          ]
        },
        {
          "output_type": "stream",
          "name": "stdout",
          "text": [
            "Saved forecast for AEP\n"
          ]
        },
        {
          "output_type": "stream",
          "name": "stderr",
          "text": [
            "\r[*********************100%%**********************]  1 of 1 completed\n",
            "INFO:prophet:Disabling daily seasonality. Run prophet with daily_seasonality=True to override this.\n",
            "DEBUG:cmdstanpy:input tempfile: /tmp/tmp4vhzzsbg/rx793nsh.json\n",
            "DEBUG:cmdstanpy:input tempfile: /tmp/tmp4vhzzsbg/w_62gajg.json\n",
            "DEBUG:cmdstanpy:idx 0\n",
            "DEBUG:cmdstanpy:running CmdStan, num_threads: None\n",
            "DEBUG:cmdstanpy:CmdStan args: ['/usr/local/lib/python3.10/dist-packages/prophet/stan_model/prophet_model.bin', 'random', 'seed=60881', 'data', 'file=/tmp/tmp4vhzzsbg/rx793nsh.json', 'init=/tmp/tmp4vhzzsbg/w_62gajg.json', 'output', 'file=/tmp/tmp4vhzzsbg/prophet_modelr3o9ilsn/prophet_model-20240415141216.csv', 'method=optimize', 'algorithm=lbfgs', 'iter=10000']\n",
            "14:12:16 - cmdstanpy - INFO - Chain [1] start processing\n",
            "INFO:cmdstanpy:Chain [1] start processing\n",
            "14:12:29 - cmdstanpy - INFO - Chain [1] done processing\n",
            "INFO:cmdstanpy:Chain [1] done processing\n"
          ]
        },
        {
          "output_type": "stream",
          "name": "stdout",
          "text": [
            "Saved forecast for AMAT\n"
          ]
        },
        {
          "output_type": "stream",
          "name": "stderr",
          "text": [
            "\r[*********************100%%**********************]  1 of 1 completed\n",
            "INFO:prophet:Disabling daily seasonality. Run prophet with daily_seasonality=True to override this.\n",
            "DEBUG:cmdstanpy:input tempfile: /tmp/tmp4vhzzsbg/ajhgbqnt.json\n",
            "DEBUG:cmdstanpy:input tempfile: /tmp/tmp4vhzzsbg/dcfh6y00.json\n",
            "DEBUG:cmdstanpy:idx 0\n",
            "DEBUG:cmdstanpy:running CmdStan, num_threads: None\n",
            "DEBUG:cmdstanpy:CmdStan args: ['/usr/local/lib/python3.10/dist-packages/prophet/stan_model/prophet_model.bin', 'random', 'seed=73895', 'data', 'file=/tmp/tmp4vhzzsbg/ajhgbqnt.json', 'init=/tmp/tmp4vhzzsbg/dcfh6y00.json', 'output', 'file=/tmp/tmp4vhzzsbg/prophet_modeljzun8hto/prophet_model-20240415141233.csv', 'method=optimize', 'algorithm=lbfgs', 'iter=10000']\n",
            "14:12:33 - cmdstanpy - INFO - Chain [1] start processing\n",
            "INFO:cmdstanpy:Chain [1] start processing\n",
            "14:12:43 - cmdstanpy - INFO - Chain [1] done processing\n",
            "INFO:cmdstanpy:Chain [1] done processing\n"
          ]
        },
        {
          "output_type": "stream",
          "name": "stdout",
          "text": [
            "Saved forecast for AMD\n"
          ]
        },
        {
          "output_type": "stream",
          "name": "stderr",
          "text": [
            "\r[*********************100%%**********************]  1 of 1 completed\n",
            "INFO:prophet:Disabling daily seasonality. Run prophet with daily_seasonality=True to override this.\n",
            "DEBUG:cmdstanpy:input tempfile: /tmp/tmp4vhzzsbg/35ljgibd.json\n",
            "DEBUG:cmdstanpy:input tempfile: /tmp/tmp4vhzzsbg/iq5hde8z.json\n",
            "DEBUG:cmdstanpy:idx 0\n",
            "DEBUG:cmdstanpy:running CmdStan, num_threads: None\n",
            "DEBUG:cmdstanpy:CmdStan args: ['/usr/local/lib/python3.10/dist-packages/prophet/stan_model/prophet_model.bin', 'random', 'seed=97550', 'data', 'file=/tmp/tmp4vhzzsbg/35ljgibd.json', 'init=/tmp/tmp4vhzzsbg/iq5hde8z.json', 'output', 'file=/tmp/tmp4vhzzsbg/prophet_modelehkeihs3/prophet_model-20240415141248.csv', 'method=optimize', 'algorithm=lbfgs', 'iter=10000']\n",
            "14:12:48 - cmdstanpy - INFO - Chain [1] start processing\n",
            "INFO:cmdstanpy:Chain [1] start processing\n",
            "14:12:58 - cmdstanpy - INFO - Chain [1] done processing\n",
            "INFO:cmdstanpy:Chain [1] done processing\n"
          ]
        },
        {
          "output_type": "stream",
          "name": "stdout",
          "text": [
            "Saved forecast for AMGN\n"
          ]
        },
        {
          "output_type": "stream",
          "name": "stderr",
          "text": [
            "\r[*********************100%%**********************]  1 of 1 completed\n",
            "INFO:prophet:Disabling daily seasonality. Run prophet with daily_seasonality=True to override this.\n",
            "DEBUG:cmdstanpy:input tempfile: /tmp/tmp4vhzzsbg/34vvnvc2.json\n",
            "DEBUG:cmdstanpy:input tempfile: /tmp/tmp4vhzzsbg/m2df52yk.json\n",
            "DEBUG:cmdstanpy:idx 0\n",
            "DEBUG:cmdstanpy:running CmdStan, num_threads: None\n",
            "DEBUG:cmdstanpy:CmdStan args: ['/usr/local/lib/python3.10/dist-packages/prophet/stan_model/prophet_model.bin', 'random', 'seed=92690', 'data', 'file=/tmp/tmp4vhzzsbg/34vvnvc2.json', 'init=/tmp/tmp4vhzzsbg/m2df52yk.json', 'output', 'file=/tmp/tmp4vhzzsbg/prophet_model9bw3el5t/prophet_model-20240415141302.csv', 'method=optimize', 'algorithm=lbfgs', 'iter=10000']\n",
            "14:13:02 - cmdstanpy - INFO - Chain [1] start processing\n",
            "INFO:cmdstanpy:Chain [1] start processing\n",
            "14:13:08 - cmdstanpy - INFO - Chain [1] done processing\n",
            "INFO:cmdstanpy:Chain [1] done processing\n"
          ]
        },
        {
          "output_type": "stream",
          "name": "stdout",
          "text": [
            "Saved forecast for AMZN\n"
          ]
        },
        {
          "output_type": "stream",
          "name": "stderr",
          "text": [
            "\r[*********************100%%**********************]  1 of 1 completed\n",
            "INFO:prophet:Disabling daily seasonality. Run prophet with daily_seasonality=True to override this.\n",
            "DEBUG:cmdstanpy:input tempfile: /tmp/tmp4vhzzsbg/b9jj_t9b.json\n",
            "DEBUG:cmdstanpy:input tempfile: /tmp/tmp4vhzzsbg/o5esmk79.json\n",
            "DEBUG:cmdstanpy:idx 0\n",
            "DEBUG:cmdstanpy:running CmdStan, num_threads: None\n",
            "DEBUG:cmdstanpy:CmdStan args: ['/usr/local/lib/python3.10/dist-packages/prophet/stan_model/prophet_model.bin', 'random', 'seed=6126', 'data', 'file=/tmp/tmp4vhzzsbg/b9jj_t9b.json', 'init=/tmp/tmp4vhzzsbg/o5esmk79.json', 'output', 'file=/tmp/tmp4vhzzsbg/prophet_modelo9r0syq8/prophet_model-20240415141310.csv', 'method=optimize', 'algorithm=lbfgs', 'iter=10000']\n",
            "14:13:10 - cmdstanpy - INFO - Chain [1] start processing\n",
            "INFO:cmdstanpy:Chain [1] start processing\n",
            "14:13:13 - cmdstanpy - INFO - Chain [1] done processing\n",
            "INFO:cmdstanpy:Chain [1] done processing\n"
          ]
        },
        {
          "output_type": "stream",
          "name": "stdout",
          "text": [
            "Saved forecast for ANSS\n"
          ]
        },
        {
          "output_type": "stream",
          "name": "stderr",
          "text": [
            "\r[*********************100%%**********************]  1 of 1 completed\n",
            "INFO:prophet:Disabling daily seasonality. Run prophet with daily_seasonality=True to override this.\n",
            "DEBUG:cmdstanpy:input tempfile: /tmp/tmp4vhzzsbg/8v_4p1m_.json\n",
            "DEBUG:cmdstanpy:input tempfile: /tmp/tmp4vhzzsbg/4ukh4xnu.json\n",
            "DEBUG:cmdstanpy:idx 0\n",
            "DEBUG:cmdstanpy:running CmdStan, num_threads: None\n",
            "DEBUG:cmdstanpy:CmdStan args: ['/usr/local/lib/python3.10/dist-packages/prophet/stan_model/prophet_model.bin', 'random', 'seed=88703', 'data', 'file=/tmp/tmp4vhzzsbg/8v_4p1m_.json', 'init=/tmp/tmp4vhzzsbg/4ukh4xnu.json', 'output', 'file=/tmp/tmp4vhzzsbg/prophet_modelko4ktjqt/prophet_model-20240415141315.csv', 'method=optimize', 'algorithm=lbfgs', 'iter=10000']\n",
            "14:13:15 - cmdstanpy - INFO - Chain [1] start processing\n",
            "INFO:cmdstanpy:Chain [1] start processing\n",
            "14:13:18 - cmdstanpy - INFO - Chain [1] done processing\n",
            "INFO:cmdstanpy:Chain [1] done processing\n"
          ]
        },
        {
          "output_type": "stream",
          "name": "stdout",
          "text": [
            "Saved forecast for ASML\n"
          ]
        },
        {
          "output_type": "stream",
          "name": "stderr",
          "text": [
            "\r[*********************100%%**********************]  1 of 1 completed\n",
            "INFO:prophet:Disabling daily seasonality. Run prophet with daily_seasonality=True to override this.\n",
            "DEBUG:cmdstanpy:input tempfile: /tmp/tmp4vhzzsbg/zkn3ku2k.json\n",
            "DEBUG:cmdstanpy:input tempfile: /tmp/tmp4vhzzsbg/ockyztqm.json\n",
            "DEBUG:cmdstanpy:idx 0\n",
            "DEBUG:cmdstanpy:running CmdStan, num_threads: None\n",
            "DEBUG:cmdstanpy:CmdStan args: ['/usr/local/lib/python3.10/dist-packages/prophet/stan_model/prophet_model.bin', 'random', 'seed=53908', 'data', 'file=/tmp/tmp4vhzzsbg/zkn3ku2k.json', 'init=/tmp/tmp4vhzzsbg/ockyztqm.json', 'output', 'file=/tmp/tmp4vhzzsbg/prophet_modelungr110g/prophet_model-20240415141321.csv', 'method=optimize', 'algorithm=lbfgs', 'iter=10000']\n",
            "14:13:21 - cmdstanpy - INFO - Chain [1] start processing\n",
            "INFO:cmdstanpy:Chain [1] start processing\n",
            "14:13:22 - cmdstanpy - INFO - Chain [1] done processing\n",
            "INFO:cmdstanpy:Chain [1] done processing\n"
          ]
        },
        {
          "output_type": "stream",
          "name": "stdout",
          "text": [
            "Saved forecast for AVGO\n"
          ]
        },
        {
          "output_type": "stream",
          "name": "stderr",
          "text": [
            "\r[*********************100%%**********************]  1 of 1 completed\n",
            "INFO:prophet:Disabling daily seasonality. Run prophet with daily_seasonality=True to override this.\n",
            "DEBUG:cmdstanpy:input tempfile: /tmp/tmp4vhzzsbg/lcg4f7nn.json\n",
            "DEBUG:cmdstanpy:input tempfile: /tmp/tmp4vhzzsbg/wvt4f8bp.json\n",
            "DEBUG:cmdstanpy:idx 0\n",
            "DEBUG:cmdstanpy:running CmdStan, num_threads: None\n",
            "DEBUG:cmdstanpy:CmdStan args: ['/usr/local/lib/python3.10/dist-packages/prophet/stan_model/prophet_model.bin', 'random', 'seed=15040', 'data', 'file=/tmp/tmp4vhzzsbg/lcg4f7nn.json', 'init=/tmp/tmp4vhzzsbg/wvt4f8bp.json', 'output', 'file=/tmp/tmp4vhzzsbg/prophet_models_kuxjr4/prophet_model-20240415141325.csv', 'method=optimize', 'algorithm=lbfgs', 'iter=10000']\n",
            "14:13:25 - cmdstanpy - INFO - Chain [1] start processing\n",
            "INFO:cmdstanpy:Chain [1] start processing\n",
            "14:13:34 - cmdstanpy - INFO - Chain [1] done processing\n",
            "INFO:cmdstanpy:Chain [1] done processing\n"
          ]
        },
        {
          "output_type": "stream",
          "name": "stdout",
          "text": [
            "Saved forecast for AZN\n"
          ]
        },
        {
          "output_type": "stream",
          "name": "stderr",
          "text": [
            "\r[*********************100%%**********************]  1 of 1 completed\n",
            "INFO:prophet:Disabling daily seasonality. Run prophet with daily_seasonality=True to override this.\n",
            "DEBUG:cmdstanpy:input tempfile: /tmp/tmp4vhzzsbg/q8h08qi2.json\n",
            "DEBUG:cmdstanpy:input tempfile: /tmp/tmp4vhzzsbg/43e3vdzi.json\n",
            "DEBUG:cmdstanpy:idx 0\n",
            "DEBUG:cmdstanpy:running CmdStan, num_threads: None\n",
            "DEBUG:cmdstanpy:CmdStan args: ['/usr/local/lib/python3.10/dist-packages/prophet/stan_model/prophet_model.bin', 'random', 'seed=97283', 'data', 'file=/tmp/tmp4vhzzsbg/q8h08qi2.json', 'init=/tmp/tmp4vhzzsbg/43e3vdzi.json', 'output', 'file=/tmp/tmp4vhzzsbg/prophet_modeluldh124q/prophet_model-20240415141337.csv', 'method=optimize', 'algorithm=lbfgs', 'iter=10000']\n",
            "14:13:37 - cmdstanpy - INFO - Chain [1] start processing\n",
            "INFO:cmdstanpy:Chain [1] start processing\n",
            "14:13:42 - cmdstanpy - INFO - Chain [1] done processing\n",
            "INFO:cmdstanpy:Chain [1] done processing\n"
          ]
        },
        {
          "output_type": "stream",
          "name": "stdout",
          "text": [
            "Saved forecast for BIIB\n"
          ]
        },
        {
          "output_type": "stream",
          "name": "stderr",
          "text": [
            "\r[*********************100%%**********************]  1 of 1 completed\n",
            "INFO:prophet:Disabling daily seasonality. Run prophet with daily_seasonality=True to override this.\n",
            "DEBUG:cmdstanpy:input tempfile: /tmp/tmp4vhzzsbg/cvuyl3_1.json\n",
            "DEBUG:cmdstanpy:input tempfile: /tmp/tmp4vhzzsbg/9e7sh5l9.json\n",
            "DEBUG:cmdstanpy:idx 0\n",
            "DEBUG:cmdstanpy:running CmdStan, num_threads: None\n",
            "DEBUG:cmdstanpy:CmdStan args: ['/usr/local/lib/python3.10/dist-packages/prophet/stan_model/prophet_model.bin', 'random', 'seed=63338', 'data', 'file=/tmp/tmp4vhzzsbg/cvuyl3_1.json', 'init=/tmp/tmp4vhzzsbg/9e7sh5l9.json', 'output', 'file=/tmp/tmp4vhzzsbg/prophet_model_mf0kdt3/prophet_model-20240415141346.csv', 'method=optimize', 'algorithm=lbfgs', 'iter=10000']\n",
            "14:13:46 - cmdstanpy - INFO - Chain [1] start processing\n",
            "INFO:cmdstanpy:Chain [1] start processing\n",
            "14:13:53 - cmdstanpy - INFO - Chain [1] done processing\n",
            "INFO:cmdstanpy:Chain [1] done processing\n"
          ]
        },
        {
          "output_type": "stream",
          "name": "stdout",
          "text": [
            "Saved forecast for BKNG\n"
          ]
        },
        {
          "output_type": "stream",
          "name": "stderr",
          "text": [
            "\r[*********************100%%**********************]  1 of 1 completed\n",
            "INFO:prophet:Disabling daily seasonality. Run prophet with daily_seasonality=True to override this.\n",
            "DEBUG:cmdstanpy:input tempfile: /tmp/tmp4vhzzsbg/6a7qbgnn.json\n",
            "DEBUG:cmdstanpy:input tempfile: /tmp/tmp4vhzzsbg/_fhua3zg.json\n",
            "DEBUG:cmdstanpy:idx 0\n",
            "DEBUG:cmdstanpy:running CmdStan, num_threads: None\n",
            "DEBUG:cmdstanpy:CmdStan args: ['/usr/local/lib/python3.10/dist-packages/prophet/stan_model/prophet_model.bin', 'random', 'seed=47659', 'data', 'file=/tmp/tmp4vhzzsbg/6a7qbgnn.json', 'init=/tmp/tmp4vhzzsbg/_fhua3zg.json', 'output', 'file=/tmp/tmp4vhzzsbg/prophet_modelkwa3zvo_/prophet_model-20240415141356.csv', 'method=optimize', 'algorithm=lbfgs', 'iter=10000']\n",
            "14:13:56 - cmdstanpy - INFO - Chain [1] start processing\n",
            "INFO:cmdstanpy:Chain [1] start processing\n",
            "14:14:00 - cmdstanpy - INFO - Chain [1] done processing\n",
            "INFO:cmdstanpy:Chain [1] done processing\n"
          ]
        },
        {
          "output_type": "stream",
          "name": "stdout",
          "text": [
            "Saved forecast for BKR\n"
          ]
        },
        {
          "output_type": "stream",
          "name": "stderr",
          "text": [
            "\r[*********************100%%**********************]  1 of 1 completed\n",
            "INFO:prophet:Disabling daily seasonality. Run prophet with daily_seasonality=True to override this.\n",
            "DEBUG:cmdstanpy:input tempfile: /tmp/tmp4vhzzsbg/k7b35teq.json\n",
            "DEBUG:cmdstanpy:input tempfile: /tmp/tmp4vhzzsbg/vip_v8sx.json\n",
            "DEBUG:cmdstanpy:idx 0\n",
            "DEBUG:cmdstanpy:running CmdStan, num_threads: None\n",
            "DEBUG:cmdstanpy:CmdStan args: ['/usr/local/lib/python3.10/dist-packages/prophet/stan_model/prophet_model.bin', 'random', 'seed=38928', 'data', 'file=/tmp/tmp4vhzzsbg/k7b35teq.json', 'init=/tmp/tmp4vhzzsbg/vip_v8sx.json', 'output', 'file=/tmp/tmp4vhzzsbg/prophet_model5r2b0v9i/prophet_model-20240415141405.csv', 'method=optimize', 'algorithm=lbfgs', 'iter=10000']\n",
            "14:14:05 - cmdstanpy - INFO - Chain [1] start processing\n",
            "INFO:cmdstanpy:Chain [1] start processing\n"
          ]
        },
        {
          "output_type": "error",
          "ename": "KeyboardInterrupt",
          "evalue": "",
          "traceback": [
            "\u001b[0;31m---------------------------------------------------------------------------\u001b[0m",
            "\u001b[0;31mKeyboardInterrupt\u001b[0m                         Traceback (most recent call last)",
            "\u001b[0;32m<ipython-input-80-3cbcbe424dee>\u001b[0m in \u001b[0;36m<cell line: 1>\u001b[0;34m()\u001b[0m\n\u001b[0;32m----> 1\u001b[0;31m \u001b[0mmain\u001b[0m\u001b[0;34m(\u001b[0m\u001b[0mnasdaq\u001b[0m\u001b[0;34m.\u001b[0m\u001b[0mSymbol\u001b[0m\u001b[0;34m)\u001b[0m\u001b[0;34m\u001b[0m\u001b[0;34m\u001b[0m\u001b[0m\n\u001b[0m",
            "\u001b[0;32m<ipython-input-79-e0b3ceca53f1>\u001b[0m in \u001b[0;36mmain\u001b[0;34m(tickers)\u001b[0m\n\u001b[1;32m      9\u001b[0m             \u001b[0;31m# Em seguida, calculamos o retorno acumulado\u001b[0m\u001b[0;34m\u001b[0m\u001b[0;34m\u001b[0m\u001b[0m\n\u001b[1;32m     10\u001b[0m             \u001b[0mstock\u001b[0m\u001b[0;34m[\u001b[0m\u001b[0;34m'Acc_Return'\u001b[0m\u001b[0;34m]\u001b[0m \u001b[0;34m=\u001b[0m \u001b[0;34m(\u001b[0m\u001b[0;36m1\u001b[0m \u001b[0;34m+\u001b[0m \u001b[0mstock\u001b[0m\u001b[0;34m[\u001b[0m\u001b[0;34m'Return'\u001b[0m\u001b[0;34m]\u001b[0m\u001b[0;34m)\u001b[0m\u001b[0;34m.\u001b[0m\u001b[0mcumprod\u001b[0m\u001b[0;34m(\u001b[0m\u001b[0;34m)\u001b[0m \u001b[0;34m-\u001b[0m \u001b[0;36m1\u001b[0m\u001b[0;34m\u001b[0m\u001b[0;34m\u001b[0m\u001b[0m\n\u001b[0;32m---> 11\u001b[0;31m             \u001b[0mforecast\u001b[0m \u001b[0;34m=\u001b[0m \u001b[0mforecast_prophet\u001b[0m\u001b[0;34m(\u001b[0m\u001b[0mstock\u001b[0m\u001b[0;34m.\u001b[0m\u001b[0mindex\u001b[0m\u001b[0;34m,\u001b[0m \u001b[0mstock\u001b[0m\u001b[0;34m[\u001b[0m\u001b[0;34m'Acc_Return'\u001b[0m\u001b[0;34m]\u001b[0m\u001b[0;34m)\u001b[0m\u001b[0;34m\u001b[0m\u001b[0;34m\u001b[0m\u001b[0m\n\u001b[0m\u001b[1;32m     12\u001b[0m             \u001b[0msave_forecast_data\u001b[0m\u001b[0;34m(\u001b[0m\u001b[0mticker\u001b[0m\u001b[0;34m,\u001b[0m \u001b[0mforecast\u001b[0m\u001b[0;34m)\u001b[0m\u001b[0;34m\u001b[0m\u001b[0;34m\u001b[0m\u001b[0m\n\u001b[1;32m     13\u001b[0m             \u001b[0mprint\u001b[0m\u001b[0;34m(\u001b[0m\u001b[0;34mf\"Saved forecast for {ticker}\"\u001b[0m\u001b[0;34m)\u001b[0m\u001b[0;34m\u001b[0m\u001b[0;34m\u001b[0m\u001b[0m\n",
            "\u001b[0;32m<ipython-input-77-41623b42fb85>\u001b[0m in \u001b[0;36mforecast_prophet\u001b[0;34m(ds, y)\u001b[0m\n\u001b[1;32m     38\u001b[0m     \u001b[0mmodel\u001b[0m \u001b[0;34m=\u001b[0m \u001b[0mProphet\u001b[0m\u001b[0;34m(\u001b[0m\u001b[0;34m)\u001b[0m\u001b[0;34m\u001b[0m\u001b[0;34m\u001b[0m\u001b[0m\n\u001b[1;32m     39\u001b[0m     \u001b[0;31m# Ajustando o modelo aos dados de treinamento\u001b[0m\u001b[0;34m\u001b[0m\u001b[0;34m\u001b[0m\u001b[0m\n\u001b[0;32m---> 40\u001b[0;31m     \u001b[0mmodel\u001b[0m\u001b[0;34m.\u001b[0m\u001b[0mfit\u001b[0m\u001b[0;34m(\u001b[0m\u001b[0mdf\u001b[0m\u001b[0;34m)\u001b[0m\u001b[0;34m\u001b[0m\u001b[0;34m\u001b[0m\u001b[0m\n\u001b[0m\u001b[1;32m     41\u001b[0m \u001b[0;34m\u001b[0m\u001b[0m\n\u001b[1;32m     42\u001b[0m     \u001b[0;31m# Criando um dataframe com datas futuras para prever (20%)\u001b[0m\u001b[0;34m\u001b[0m\u001b[0;34m\u001b[0m\u001b[0m\n",
            "\u001b[0;32m/usr/local/lib/python3.10/dist-packages/prophet/forecaster.py\u001b[0m in \u001b[0;36mfit\u001b[0;34m(self, df, **kwargs)\u001b[0m\n\u001b[1;32m   1230\u001b[0m             \u001b[0mself\u001b[0m\u001b[0;34m.\u001b[0m\u001b[0mparams\u001b[0m \u001b[0;34m=\u001b[0m \u001b[0mself\u001b[0m\u001b[0;34m.\u001b[0m\u001b[0mstan_backend\u001b[0m\u001b[0;34m.\u001b[0m\u001b[0msampling\u001b[0m\u001b[0;34m(\u001b[0m\u001b[0mstan_init\u001b[0m\u001b[0;34m,\u001b[0m \u001b[0mdat\u001b[0m\u001b[0;34m,\u001b[0m \u001b[0mself\u001b[0m\u001b[0;34m.\u001b[0m\u001b[0mmcmc_samples\u001b[0m\u001b[0;34m,\u001b[0m \u001b[0;34m**\u001b[0m\u001b[0mkwargs\u001b[0m\u001b[0;34m)\u001b[0m\u001b[0;34m\u001b[0m\u001b[0;34m\u001b[0m\u001b[0m\n\u001b[1;32m   1231\u001b[0m         \u001b[0;32melse\u001b[0m\u001b[0;34m:\u001b[0m\u001b[0;34m\u001b[0m\u001b[0;34m\u001b[0m\u001b[0m\n\u001b[0;32m-> 1232\u001b[0;31m             \u001b[0mself\u001b[0m\u001b[0;34m.\u001b[0m\u001b[0mparams\u001b[0m \u001b[0;34m=\u001b[0m \u001b[0mself\u001b[0m\u001b[0;34m.\u001b[0m\u001b[0mstan_backend\u001b[0m\u001b[0;34m.\u001b[0m\u001b[0mfit\u001b[0m\u001b[0;34m(\u001b[0m\u001b[0mstan_init\u001b[0m\u001b[0;34m,\u001b[0m \u001b[0mdat\u001b[0m\u001b[0;34m,\u001b[0m \u001b[0;34m**\u001b[0m\u001b[0mkwargs\u001b[0m\u001b[0;34m)\u001b[0m\u001b[0;34m\u001b[0m\u001b[0;34m\u001b[0m\u001b[0m\n\u001b[0m\u001b[1;32m   1233\u001b[0m \u001b[0;34m\u001b[0m\u001b[0m\n\u001b[1;32m   1234\u001b[0m         \u001b[0mself\u001b[0m\u001b[0;34m.\u001b[0m\u001b[0mstan_fit\u001b[0m \u001b[0;34m=\u001b[0m \u001b[0mself\u001b[0m\u001b[0;34m.\u001b[0m\u001b[0mstan_backend\u001b[0m\u001b[0;34m.\u001b[0m\u001b[0mstan_fit\u001b[0m\u001b[0;34m\u001b[0m\u001b[0;34m\u001b[0m\u001b[0m\n",
            "\u001b[0;32m/usr/local/lib/python3.10/dist-packages/prophet/models.py\u001b[0m in \u001b[0;36mfit\u001b[0;34m(self, stan_init, stan_data, **kwargs)\u001b[0m\n\u001b[1;32m    119\u001b[0m \u001b[0;34m\u001b[0m\u001b[0m\n\u001b[1;32m    120\u001b[0m         \u001b[0;32mtry\u001b[0m\u001b[0;34m:\u001b[0m\u001b[0;34m\u001b[0m\u001b[0;34m\u001b[0m\u001b[0m\n\u001b[0;32m--> 121\u001b[0;31m             \u001b[0mself\u001b[0m\u001b[0;34m.\u001b[0m\u001b[0mstan_fit\u001b[0m \u001b[0;34m=\u001b[0m \u001b[0mself\u001b[0m\u001b[0;34m.\u001b[0m\u001b[0mmodel\u001b[0m\u001b[0;34m.\u001b[0m\u001b[0moptimize\u001b[0m\u001b[0;34m(\u001b[0m\u001b[0;34m**\u001b[0m\u001b[0margs\u001b[0m\u001b[0;34m)\u001b[0m\u001b[0;34m\u001b[0m\u001b[0;34m\u001b[0m\u001b[0m\n\u001b[0m\u001b[1;32m    122\u001b[0m         \u001b[0;32mexcept\u001b[0m \u001b[0mRuntimeError\u001b[0m \u001b[0;32mas\u001b[0m \u001b[0me\u001b[0m\u001b[0;34m:\u001b[0m\u001b[0;34m\u001b[0m\u001b[0;34m\u001b[0m\u001b[0m\n\u001b[1;32m    123\u001b[0m             \u001b[0;31m# Fall back on Newton\u001b[0m\u001b[0;34m\u001b[0m\u001b[0;34m\u001b[0m\u001b[0m\n",
            "\u001b[0;32m/usr/local/lib/python3.10/dist-packages/cmdstanpy/model.py\u001b[0m in \u001b[0;36moptimize\u001b[0;34m(self, data, seed, inits, output_dir, sig_figs, save_profile, algorithm, init_alpha, tol_obj, tol_rel_obj, tol_grad, tol_rel_grad, tol_param, history_size, iter, save_iterations, require_converged, show_console, refresh, time_fmt, timeout, jacobian)\u001b[0m\n\u001b[1;32m    642\u001b[0m             \u001b[0mdummy_chain_id\u001b[0m \u001b[0;34m=\u001b[0m \u001b[0;36m0\u001b[0m\u001b[0;34m\u001b[0m\u001b[0;34m\u001b[0m\u001b[0m\n\u001b[1;32m    643\u001b[0m             \u001b[0mrunset\u001b[0m \u001b[0;34m=\u001b[0m \u001b[0mRunSet\u001b[0m\u001b[0;34m(\u001b[0m\u001b[0margs\u001b[0m\u001b[0;34m=\u001b[0m\u001b[0margs\u001b[0m\u001b[0;34m,\u001b[0m \u001b[0mchains\u001b[0m\u001b[0;34m=\u001b[0m\u001b[0;36m1\u001b[0m\u001b[0;34m,\u001b[0m \u001b[0mtime_fmt\u001b[0m\u001b[0;34m=\u001b[0m\u001b[0mtime_fmt\u001b[0m\u001b[0;34m)\u001b[0m\u001b[0;34m\u001b[0m\u001b[0;34m\u001b[0m\u001b[0m\n\u001b[0;32m--> 644\u001b[0;31m             self._run_cmdstan(\n\u001b[0m\u001b[1;32m    645\u001b[0m                 \u001b[0mrunset\u001b[0m\u001b[0;34m,\u001b[0m\u001b[0;34m\u001b[0m\u001b[0;34m\u001b[0m\u001b[0m\n\u001b[1;32m    646\u001b[0m                 \u001b[0mdummy_chain_id\u001b[0m\u001b[0;34m,\u001b[0m\u001b[0;34m\u001b[0m\u001b[0;34m\u001b[0m\u001b[0m\n",
            "\u001b[0;32m/usr/local/lib/python3.10/dist-packages/cmdstanpy/model.py\u001b[0m in \u001b[0;36m_run_cmdstan\u001b[0;34m(self, runset, idx, show_progress, show_console, progress_hook, timeout)\u001b[0m\n\u001b[1;32m   2085\u001b[0m             \u001b[0;32mwhile\u001b[0m \u001b[0mproc\u001b[0m\u001b[0;34m.\u001b[0m\u001b[0mpoll\u001b[0m\u001b[0;34m(\u001b[0m\u001b[0;34m)\u001b[0m \u001b[0;32mis\u001b[0m \u001b[0;32mNone\u001b[0m\u001b[0;34m:\u001b[0m\u001b[0;34m\u001b[0m\u001b[0;34m\u001b[0m\u001b[0m\n\u001b[1;32m   2086\u001b[0m                 \u001b[0;32mif\u001b[0m \u001b[0mproc\u001b[0m\u001b[0;34m.\u001b[0m\u001b[0mstdout\u001b[0m \u001b[0;32mis\u001b[0m \u001b[0;32mnot\u001b[0m \u001b[0;32mNone\u001b[0m\u001b[0;34m:\u001b[0m\u001b[0;34m\u001b[0m\u001b[0;34m\u001b[0m\u001b[0m\n\u001b[0;32m-> 2087\u001b[0;31m                     \u001b[0mline\u001b[0m \u001b[0;34m=\u001b[0m \u001b[0mproc\u001b[0m\u001b[0;34m.\u001b[0m\u001b[0mstdout\u001b[0m\u001b[0;34m.\u001b[0m\u001b[0mreadline\u001b[0m\u001b[0;34m(\u001b[0m\u001b[0;34m)\u001b[0m\u001b[0;34m\u001b[0m\u001b[0;34m\u001b[0m\u001b[0m\n\u001b[0m\u001b[1;32m   2088\u001b[0m                     \u001b[0mfd_out\u001b[0m\u001b[0;34m.\u001b[0m\u001b[0mwrite\u001b[0m\u001b[0;34m(\u001b[0m\u001b[0mline\u001b[0m\u001b[0;34m)\u001b[0m\u001b[0;34m\u001b[0m\u001b[0;34m\u001b[0m\u001b[0m\n\u001b[1;32m   2089\u001b[0m                     \u001b[0mline\u001b[0m \u001b[0;34m=\u001b[0m \u001b[0mline\u001b[0m\u001b[0;34m.\u001b[0m\u001b[0mstrip\u001b[0m\u001b[0;34m(\u001b[0m\u001b[0;34m)\u001b[0m\u001b[0;34m\u001b[0m\u001b[0;34m\u001b[0m\u001b[0m\n",
            "\u001b[0;31mKeyboardInterrupt\u001b[0m: "
          ]
        }
      ],
      "source": [
        "main(nasdaq.Symbol)"
      ]
    },
    {
      "cell_type": "code",
      "execution_count": null,
      "metadata": {
        "id": "mwGPy0oFpei_"
      },
      "outputs": [],
      "source": [
        "#plota os gráficos das previsões junto aos dados reais\n",
        "\n",
        "def plot_predictions(ticker):\n",
        "\n",
        "\n",
        "    #pega os dados\n",
        "    stock = get_stock_data(ticker)\n",
        "\n",
        "\n",
        "    #prepara o retorno acumulado\n",
        "    stock['Return'] = stock['Close'].pct_change()\n",
        "    stock['Acc_Return'] = (1 + stock['Return']).cumprod() - 1\n",
        "\n",
        "    # preencher nan\n",
        "    stock.fillna(0, inplace=True)\n",
        "\n",
        "    #cria forecast\n",
        "    forecast = forecast_prophet(stock.index, stock['Acc_Return'])\n",
        "\n",
        "    #Plota gráfico\n",
        "    plt.figure(figsize=(10, 6))\n",
        "    plt.plot(pd.to_datetime(stock.index), stock['Acc_Return'], label='Actual', color='black')\n",
        "    plt.plot(pd.to_datetime(forecast['ds'], unit='ms'), forecast['yhat'], label='Predicted', color='blue')\n",
        "    plt.fill_between(pd.to_datetime(forecast['ds'], unit='ms'), forecast['yhat_lower'], forecast['yhat_upper'], color='lightblue', alpha=0.3)\n",
        "    plt.xlabel('Date')\n",
        "    plt.ylabel('Value')\n",
        "    plt.title('Predictions with Upper and Lower Bounds')\n",
        "    plt.legend()\n",
        "    plt.grid(True)\n",
        "    plt.show()\n",
        "\n",
        "\n",
        "\n",
        "\n",
        "\n"
      ]
    },
    {
      "cell_type": "code",
      "execution_count": null,
      "metadata": {
        "id": "uKeUe9yppejA"
      },
      "outputs": [],
      "source": [
        "plot_predictions('AAPL')"
      ]
    },
    {
      "cell_type": "code",
      "source": [
        "stock = get_stock_data(\"MSFT\")"
      ],
      "metadata": {
        "id": "lMoUf2r30WOi"
      },
      "execution_count": null,
      "outputs": []
    },
    {
      "cell_type": "code",
      "source": [
        "\n",
        "stock['Return'] = stock['Close'].pct_change()\n",
        "stock['Acc_Return'] = (1 + stock['Return']).cumprod() - 1\n",
        "stock.fillna(0, inplace=True)"
      ],
      "metadata": {
        "id": "Ek-4rDoP0n65"
      },
      "execution_count": null,
      "outputs": []
    },
    {
      "cell_type": "code",
      "source": [
        "stock"
      ],
      "metadata": {
        "id": "YSTPFDqq02pv"
      },
      "execution_count": null,
      "outputs": []
    },
    {
      "cell_type": "code",
      "source": [
        "stock_forecast = forecast_prophet(stock.index, stock['Acc_Return'])"
      ],
      "metadata": {
        "id": "S6Ayj2ih03Hh"
      },
      "execution_count": null,
      "outputs": []
    },
    {
      "cell_type": "code",
      "source": [],
      "metadata": {
        "id": "pC7DTC-SBW-I"
      },
      "execution_count": null,
      "outputs": []
    }
  ],
  "metadata": {
    "kernelspec": {
      "display_name": "base",
      "language": "python",
      "name": "python3"
    },
    "language_info": {
      "codemirror_mode": {
        "name": "ipython",
        "version": 3
      },
      "file_extension": ".py",
      "mimetype": "text/x-python",
      "name": "python",
      "nbconvert_exporter": "python",
      "pygments_lexer": "ipython3",
      "version": "3.11.4"
    },
    "colab": {
      "provenance": []
    }
  },
  "nbformat": 4,
  "nbformat_minor": 0
}